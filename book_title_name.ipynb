{
 "cells": [
  {
   "cell_type": "code",
   "execution_count": 2,
   "metadata": {},
   "outputs": [],
   "source": [
    "from bs4 import BeautifulSoup\n",
    "import requests as rq"
   ]
  },
  {
   "cell_type": "code",
   "execution_count": 3,
   "metadata": {},
   "outputs": [],
   "source": [
    "qURL = 'https://books.toscrape.com/'\n",
    "response = rq.get(url=qURL)\n",
    "book_Resp = BeautifulSoup(response.text,\"html.parser\")"
   ]
  },
  {
   "cell_type": "code",
   "execution_count": 4,
   "metadata": {},
   "outputs": [],
   "source": [
    "b_title = book_Resp.find_all('article',attrs={'class':'product_pod'})\n"
   ]
  },
  {
   "cell_type": "code",
   "execution_count": 5,
   "metadata": {},
   "outputs": [
    {
     "name": "stdout",
     "output_type": "stream",
     "text": [
      "['A Light in the ...', 'Tipping the Velvet', 'Soumission', 'Sharp Objects', 'Sapiens: A Brief History ...', 'The Requiem Red', 'The Dirty Little Secrets ...', 'The Coming Woman: A ...', 'The Boys in the ...', 'The Black Maria', 'Starving Hearts (Triangular Trade ...', \"Shakespeare's Sonnets\", 'Set Me Free', \"Scott Pilgrim's Precious Little ...\", 'Rip it Up and ...', 'Our Band Could Be ...', 'Olio', 'Mesaerion: The Best Science ...', 'Libertarianism for Beginners', \"It's Only the Himalayas\"]\n"
     ]
    }
   ],
   "source": [
    "list1 =[]\n",
    "\n",
    "for bt_name in b_title:\n",
    "    list1.append(bt_name.find('h3').string)\n",
    "\n",
    "print(list1)"
   ]
  },
  {
   "cell_type": "code",
   "execution_count": 6,
   "metadata": {},
   "outputs": [
    {
     "name": "stdout",
     "output_type": "stream",
     "text": [
      "A Light in the Attic\n",
      "Tipping the Velvet\n",
      "Soumission\n",
      "Sharp Objects\n",
      "Sapiens: A Brief History of Humankind\n",
      "The Requiem Red\n",
      "The Dirty Little Secrets of Getting Your Dream Job\n",
      "The Coming Woman: A Novel Based on the Life of the Infamous Feminist, Victoria Woodhull\n",
      "The Boys in the Boat: Nine Americans and Their Epic Quest for Gold at the 1936 Berlin Olympics\n",
      "The Black Maria\n",
      "Starving Hearts (Triangular Trade Trilogy, #1)\n",
      "Shakespeare's Sonnets\n",
      "Set Me Free\n",
      "Scott Pilgrim's Precious Little Life (Scott Pilgrim #1)\n",
      "Rip it Up and Start Again\n",
      "Our Band Could Be Your Life: Scenes from the American Indie Underground, 1981-1991\n",
      "Olio\n",
      "Mesaerion: The Best Science Fiction Stories 1800-1849\n",
      "Libertarianism for Beginners\n",
      "It's Only the Himalayas\n"
     ]
    }
   ],
   "source": [
    "bt_name = book_Resp.select('h3')\n",
    "\n",
    "# print(bt_name[0].a['title'])\n",
    "\n",
    "bt_data = [b_title.a['title'] for b_title in bt_name ]\n",
    "\n",
    "for bt in bt_data:\n",
    "    print(bt)\n"
   ]
  },
  {
   "cell_type": "code",
   "execution_count": 11,
   "metadata": {},
   "outputs": [],
   "source": [
    "book_data = book_Resp.select('article')"
   ]
  },
  {
   "cell_type": "markdown",
   "metadata": {},
   "source": [
    "## Book Title & Price"
   ]
  },
  {
   "cell_type": "code",
   "execution_count": 12,
   "metadata": {},
   "outputs": [
    {
     "name": "stdout",
     "output_type": "stream",
     "text": [
      "[{'title ': 'A Light in the Attic', 'price': 51.77}, {'title ': 'Tipping the Velvet', 'price': 53.74}, {'title ': 'Soumission', 'price': 50.1}, {'title ': 'Sharp Objects', 'price': 47.82}, {'title ': 'Sapiens: A Brief History of Humankind', 'price': 54.23}, {'title ': 'The Requiem Red', 'price': 22.65}, {'title ': 'The Dirty Little Secrets of Getting Your Dream Job', 'price': 33.34}, {'title ': 'The Coming Woman: A Novel Based on the Life of the Infamous Feminist, Victoria Woodhull', 'price': 17.93}, {'title ': 'The Boys in the Boat: Nine Americans and Their Epic Quest for Gold at the 1936 Berlin Olympics', 'price': 22.6}, {'title ': 'The Black Maria', 'price': 52.15}, {'title ': 'Starving Hearts (Triangular Trade Trilogy, #1)', 'price': 13.99}, {'title ': \"Shakespeare's Sonnets\", 'price': 20.66}, {'title ': 'Set Me Free', 'price': 17.46}, {'title ': \"Scott Pilgrim's Precious Little Life (Scott Pilgrim #1)\", 'price': 52.29}, {'title ': 'Rip it Up and Start Again', 'price': 35.02}, {'title ': 'Our Band Could Be Your Life: Scenes from the American Indie Underground, 1981-1991', 'price': 57.25}, {'title ': 'Olio', 'price': 23.88}, {'title ': 'Mesaerion: The Best Science Fiction Stories 1800-1849', 'price': 37.59}, {'title ': 'Libertarianism for Beginners', 'price': 51.33}, {'title ': \"It's Only the Himalayas\", 'price': 45.17}]\n"
     ]
    }
   ],
   "source": [
    "books = []\n",
    "    \n",
    "\n",
    "for book_info in book_data:\n",
    "    btitle = book_info.h3.a['title']\n",
    "    bprice = book_info.select_one('p.price_color')\n",
    "    price = float(bprice.text[2:])\n",
    "    books.append(\n",
    "        {\n",
    "        'title ': btitle,\n",
    "        'price' : price,\n",
    "        })\n",
    "    \n",
    "print(books)"
   ]
  },
  {
   "cell_type": "markdown",
   "metadata": {},
   "source": [
    "## Book Title & Price & Rating"
   ]
  },
  {
   "cell_type": "code",
   "execution_count": 19,
   "metadata": {},
   "outputs": [
    {
     "name": "stdout",
     "output_type": "stream",
     "text": [
      "[{'title ': 'A Light in the Attic', 'price': 51.77, 'rating': 3}, {'title ': 'Tipping the Velvet', 'price': 53.74, 'rating': 1}, {'title ': 'Soumission', 'price': 50.1, 'rating': 1}, {'title ': 'Sharp Objects', 'price': 47.82, 'rating': 4}, {'title ': 'Sapiens: A Brief History of Humankind', 'price': 54.23, 'rating': 5}, {'title ': 'The Requiem Red', 'price': 22.65, 'rating': 1}, {'title ': 'The Dirty Little Secrets of Getting Your Dream Job', 'price': 33.34, 'rating': 4}, {'title ': 'The Coming Woman: A Novel Based on the Life of the Infamous Feminist, Victoria Woodhull', 'price': 17.93, 'rating': 3}, {'title ': 'The Boys in the Boat: Nine Americans and Their Epic Quest for Gold at the 1936 Berlin Olympics', 'price': 22.6, 'rating': 4}, {'title ': 'The Black Maria', 'price': 52.15, 'rating': 1}, {'title ': 'Starving Hearts (Triangular Trade Trilogy, #1)', 'price': 13.99, 'rating': 2}, {'title ': \"Shakespeare's Sonnets\", 'price': 20.66, 'rating': 4}, {'title ': 'Set Me Free', 'price': 17.46, 'rating': 5}, {'title ': \"Scott Pilgrim's Precious Little Life (Scott Pilgrim #1)\", 'price': 52.29, 'rating': 5}, {'title ': 'Rip it Up and Start Again', 'price': 35.02, 'rating': 5}, {'title ': 'Our Band Could Be Your Life: Scenes from the American Indie Underground, 1981-1991', 'price': 57.25, 'rating': 3}, {'title ': 'Olio', 'price': 23.88, 'rating': 1}, {'title ': 'Mesaerion: The Best Science Fiction Stories 1800-1849', 'price': 37.59, 'rating': 1}, {'title ': 'Libertarianism for Beginners', 'price': 51.33, 'rating': 2}, {'title ': \"It's Only the Himalayas\", 'price': 45.17, 'rating': 2}]\n"
     ]
    }
   ],
   "source": [
    "books = []\n",
    "\n",
    "def ratingfun(string):\n",
    "    switch = {\n",
    "        \"One\": 1,\n",
    "        \"Two\": 2,\n",
    "        \"Three\": 3,\n",
    "        \"Four\": 4,\n",
    "        \"Five\": 5\n",
    "    }\n",
    "    return switch.get(string, \"Invalid input\") \n",
    "    \n",
    "\n",
    "for book_info in book_data:\n",
    "    # Title\n",
    "    btitle = book_info.h3.a['title']\n",
    "    bprice = book_info.select_one('p.price_color')\n",
    "    # Price\n",
    "    price = float(bprice.text[2:])\n",
    "    # Rating\n",
    "    rating = book_info.select_one('p.star-rating')\n",
    "    rating_class1 = (rating['class'])\n",
    "    rate = ratingfun(rating_class1[1])\n",
    "\n",
    "    books.append(\n",
    "        {\n",
    "        'title ': btitle,\n",
    "        'price' : price,\n",
    "        'rating' : rate\n",
    "        })\n",
    "    \n",
    "print(books)"
   ]
  },
  {
   "cell_type": "code",
   "execution_count": null,
   "metadata": {},
   "outputs": [
    {
     "name": "stdout",
     "output_type": "stream",
     "text": [
      "['star-rating', 'Three']\n"
     ]
    }
   ],
   "source": []
  }
 ],
 "metadata": {
  "kernelspec": {
   "display_name": "Python 3",
   "language": "python",
   "name": "python3"
  },
  "language_info": {
   "codemirror_mode": {
    "name": "ipython",
    "version": 3
   },
   "file_extension": ".py",
   "mimetype": "text/x-python",
   "name": "python",
   "nbconvert_exporter": "python",
   "pygments_lexer": "ipython3",
   "version": "3.13.2"
  }
 },
 "nbformat": 4,
 "nbformat_minor": 2
}
