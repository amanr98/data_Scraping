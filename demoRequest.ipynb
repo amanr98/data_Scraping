{
 "cells": [
  {
   "cell_type": "code",
   "execution_count": 1,
   "metadata": {},
   "outputs": [],
   "source": [
    "import requests"
   ]
  },
  {
   "cell_type": "markdown",
   "metadata": {},
   "source": [
    "<h1> Get"
   ]
  },
  {
   "cell_type": "code",
   "execution_count": null,
   "metadata": {},
   "outputs": [
    {
     "name": "stdout",
     "output_type": "stream",
     "text": [
      "{'args': {'key1': 'aaa', 'key2': 'ccc'}, 'headers': {'Accept': '*/*', 'Accept-Encoding': 'gzip, deflate', 'Host': 'www.httpbin.org', 'User-Agent': 'python-requests/2.32.3', 'X-Amzn-Trace-Id': 'Root=1-67dc39ff-21d4b27b006fa6a06ca10f7d'}, 'origin': '223.185.39.106', 'url': 'https://www.httpbin.org/get?key1=aaa&key2=ccc'}\n",
      "{\n",
      "  \"args\": {\n",
      "    \"key1\": \"aaa\", \n",
      "    \"key2\": \"ccc\"\n",
      "  }, \n",
      "  \"headers\": {\n",
      "    \"Accept\": \"*/*\", \n",
      "    \"Accept-Encoding\": \"gzip, deflate\", \n",
      "    \"Host\": \"www.httpbin.org\", \n",
      "    \"User-Agent\": \"python-requests/2.32.3\", \n",
      "    \"X-Amzn-Trace-Id\": \"Root=1-67dc39ff-21d4b27b006fa6a06ca10f7d\"\n",
      "  }, \n",
      "  \"origin\": \"223.185.39.106\", \n",
      "  \"url\": \"https://www.httpbin.org/get?key1=aaa&key2=ccc\"\n",
      "}\n",
      "\n"
     ]
    }
   ],
   "source": [
    "p1 = {'key1': 'aaa','key2':'ccc'}\n",
    "r = requests.get('https://www.httpbin.org/get',params=p1)\n",
    "print(r.headers)\n",
    "j =r.text\n",
    "print(j)"
   ]
  },
  {
   "cell_type": "code",
   "execution_count": null,
   "metadata": {},
   "outputs": [
    {
     "name": "stdout",
     "output_type": "stream",
     "text": [
      "{'Date': 'Thu, 20 Mar 2025 15:59:41 GMT', 'Content-Type': 'application/json', 'Content-Length': '502', 'Connection': 'keep-alive', 'Server': 'gunicorn/19.9.0', 'Access-Control-Allow-Origin': '*', 'Access-Control-Allow-Credentials': 'true'}\n",
      "()\n"
     ]
    }
   ],
   "source": [
    "\n",
    "r1 = requests.post('https://www.httpbin.org/post?a=2',data={'a':1})\n",
    "print(r1.headers)\n",
    "print(r1.text )"
   ]
  },
  {
   "cell_type": "code",
   "execution_count": 14,
   "metadata": {},
   "outputs": [
    {
     "name": "stdout",
     "output_type": "stream",
     "text": [
      "status_code : 200\n",
      "headers : {'Date': 'Thu, 20 Mar 2025 16:05:58 GMT', 'Content-Type': 'application/json', 'Content-Length': '541', 'Connection': 'keep-alive', 'Server': 'gunicorn/19.9.0', 'Access-Control-Allow-Origin': '*', 'Access-Control-Allow-Credentials': 'true'}\n",
      "{\n",
      "  \"args\": {\n",
      "    \"inside\": \"put\"\n",
      "  }, \n",
      "  \"data\": \"\", \n",
      "  \"files\": {}, \n",
      "  \"form\": {\n",
      "    \"key1\": \"aaa\", \n",
      "    \"key2\": \"ccc\"\n",
      "  }, \n",
      "  \"headers\": {\n",
      "    \"Accept\": \"*/*\", \n",
      "    \"Accept-Encoding\": \"gzip, deflate\", \n",
      "    \"Content-Length\": \"17\", \n",
      "    \"Content-Type\": \"application/x-www-form-urlencoded\", \n",
      "    \"Host\": \"www.httpbin.org\", \n",
      "    \"User-Agent\": \"python-requests/2.32.3\", \n",
      "    \"X-Amzn-Trace-Id\": \"Root=1-67dc3ccf-03d13c944eb2f3593bd2f6bb\"\n",
      "  }, \n",
      "  \"json\": null, \n",
      "  \"origin\": \"223.185.39.106\", \n",
      "  \"url\": \"https://www.httpbin.org/put?inside=put\"\n",
      "}\n",
      "\n"
     ]
    }
   ],
   "source": [
    "p2 = {'key': 'xyz','key2':'abc'}\n",
    "r2 = requests.put('https://www.httpbin.org/put?inside=put',data=p1)\n",
    "print('status_code :',r2.status_code)\n",
    "print('headers :',r2.headers)\n",
    "print(r2.text)\n"
   ]
  },
  {
   "cell_type": "code",
   "execution_count": null,
   "metadata": {},
   "outputs": [],
   "source": []
  }
 ],
 "metadata": {
  "kernelspec": {
   "display_name": "Python 3",
   "language": "python",
   "name": "python3"
  },
  "language_info": {
   "codemirror_mode": {
    "name": "ipython",
    "version": 3
   },
   "file_extension": ".py",
   "mimetype": "text/x-python",
   "name": "python",
   "nbconvert_exporter": "python",
   "pygments_lexer": "ipython3",
   "version": "3.13.2"
  }
 },
 "nbformat": 4,
 "nbformat_minor": 2
}
