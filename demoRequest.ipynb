{
 "cells": [
  {
   "cell_type": "code",
   "execution_count": 8,
   "metadata": {},
   "outputs": [],
   "source": [
    "import requests"
   ]
  },
  {
   "cell_type": "markdown",
   "metadata": {},
   "source": [
    "<h1> Get"
   ]
  },
  {
   "cell_type": "code",
   "execution_count": null,
   "metadata": {},
   "outputs": [
    {
     "name": "stdout",
     "output_type": "stream",
     "text": [
      "{'args': {'key1': 'aaa', 'key2': 'ccc'}, 'headers': {'Accept': '*/*', 'Accept-Encoding': 'gzip, deflate', 'Host': 'www.httpbin.org', 'User-Agent': 'python-requests/2.32.3', 'X-Amzn-Trace-Id': 'Root=1-67dc39ff-21d4b27b006fa6a06ca10f7d'}, 'origin': '223.185.39.106', 'url': 'https://www.httpbin.org/get?key1=aaa&key2=ccc'}\n",
      "{\n",
      "  \"args\": {\n",
      "    \"key1\": \"aaa\", \n",
      "    \"key2\": \"ccc\"\n",
      "  }, \n",
      "  \"headers\": {\n",
      "    \"Accept\": \"*/*\", \n",
      "    \"Accept-Encoding\": \"gzip, deflate\", \n",
      "    \"Host\": \"www.httpbin.org\", \n",
      "    \"User-Agent\": \"python-requests/2.32.3\", \n",
      "    \"X-Amzn-Trace-Id\": \"Root=1-67dc39ff-21d4b27b006fa6a06ca10f7d\"\n",
      "  }, \n",
      "  \"origin\": \"223.185.39.106\", \n",
      "  \"url\": \"https://www.httpbin.org/get?key1=aaa&key2=ccc\"\n",
      "}\n",
      "\n"
     ]
    }
   ],
   "source": [
    "p1 = {'key1': 'aaa','key2':'ccc'}\n",
    "r = requests.get('https://www.httpbin.org/get',params=p1)\n",
    "print('headers',r.headers)\n",
    "j =r.text\n",
    "print(j)"
   ]
  },
  {
   "cell_type": "markdown",
   "metadata": {},
   "source": [
    "<h1> Post"
   ]
  },
  {
   "cell_type": "code",
   "execution_count": 20,
   "metadata": {},
   "outputs": [
    {
     "name": "stdout",
     "output_type": "stream",
     "text": [
      "headers {'Date': 'Thu, 20 Mar 2025 16:26:27 GMT', 'Content-Type': 'application/json', 'Content-Length': '583', 'Connection': 'keep-alive', 'Server': 'gunicorn/19.9.0', 'Access-Control-Allow-Origin': '*', 'Access-Control-Allow-Credentials': 'true'}\n",
      "{\n",
      "  \"args\": {\n",
      "    \"a\": \"2\"\n",
      "  }, \n",
      "  \"data\": \"\", \n",
      "  \"files\": {\n",
      "    \"file\": \"this is report file used in post\"\n",
      "  }, \n",
      "  \"form\": {\n",
      "    \"a\": \"1\"\n",
      "  }, \n",
      "  \"headers\": {\n",
      "    \"Accept\": \"*/*\", \n",
      "    \"Accept-Encoding\": \"gzip, deflate\", \n",
      "    \"Content-Length\": \"313\", \n",
      "    \"Content-Type\": \"multipart/form-data; boundary=494ab7f22e39cab55bbe5c8684a3c029\", \n",
      "    \"Host\": \"www.httpbin.org\", \n",
      "    \"User-Agent\": \"python-requests/2.32.3\", \n",
      "    \"X-Amzn-Trace-Id\": \"Root=1-67dc41aa-16513d3929fe8161600436bf\"\n",
      "  }, \n",
      "  \"json\": null, \n",
      "  \"origin\": \"223.185.39.106\", \n",
      "  \"url\": \"https://www.httpbin.org/post?a=2\"\n",
      "}\n",
      "\n"
     ]
    }
   ],
   "source": [
    "files = {'file':('report.xls', open('report.xls','rb'), 'application/vnd.ms-excel', {'Expires': '0'})}\n",
    "r1 = requests.post('https://www.httpbin.org/post?a=2',data={'a':1},files=files)\n",
    "print('headers',r1.headers)\n",
    "print(r1.text )"
   ]
  },
  {
   "cell_type": "markdown",
   "metadata": {},
   "source": [
    "<h1>Put"
   ]
  },
  {
   "cell_type": "code",
   "execution_count": 16,
   "metadata": {},
   "outputs": [
    {
     "name": "stdout",
     "output_type": "stream",
     "text": [
      "status_code : 200\n",
      "headers : {'Date': 'Thu, 20 Mar 2025 16:23:59 GMT', 'Content-Type': 'application/json', 'Content-Length': '540', 'Connection': 'keep-alive', 'Server': 'gunicorn/19.9.0', 'Access-Control-Allow-Origin': '*', 'Access-Control-Allow-Credentials': 'true'}\n",
      "{\n",
      "  \"args\": {\n",
      "    \"inside\": \"put\"\n",
      "  }, \n",
      "  \"data\": \"\", \n",
      "  \"files\": {}, \n",
      "  \"form\": {\n",
      "    \"key\": \"xyz\", \n",
      "    \"key2\": \"abc\"\n",
      "  }, \n",
      "  \"headers\": {\n",
      "    \"Accept\": \"*/*\", \n",
      "    \"Accept-Encoding\": \"gzip, deflate\", \n",
      "    \"Content-Length\": \"16\", \n",
      "    \"Content-Type\": \"application/x-www-form-urlencoded\", \n",
      "    \"Host\": \"www.httpbin.org\", \n",
      "    \"User-Agent\": \"python-requests/2.32.3\", \n",
      "    \"X-Amzn-Trace-Id\": \"Root=1-67dc411c-5b75a48c4acc6ba461789126\"\n",
      "  }, \n",
      "  \"json\": null, \n",
      "  \"origin\": \"223.185.39.106\", \n",
      "  \"url\": \"https://www.httpbin.org/put?inside=put\"\n",
      "}\n",
      "\n"
     ]
    }
   ],
   "source": [
    "p2 = {'key': 'xyz','key2':'abc'}\n",
    "r2 = requests.put('https://www.httpbin.org/put?inside=put',data=p2)\n",
    "print('status_code :',r2.status_code)\n",
    "print('headers :',r2.headers)\n",
    "print(r2.text)\n",
    "\n"
   ]
  },
  {
   "cell_type": "markdown",
   "metadata": {},
   "source": [
    "<h1>Delete"
   ]
  },
  {
   "cell_type": "code",
   "execution_count": 23,
   "metadata": {},
   "outputs": [
    {
     "name": "stdout",
     "output_type": "stream",
     "text": [
      "status_code 200\n",
      "headers {'Date': 'Thu, 20 Mar 2025 16:28:40 GMT', 'Content-Type': 'application/json', 'Content-Length': '460', 'Connection': 'keep-alive', 'Server': 'gunicorn/19.9.0', 'Access-Control-Allow-Origin': '*', 'Access-Control-Allow-Credentials': 'true'}\n",
      "{\n",
      "  \"args\": {}, \n",
      "  \"data\": \"\", \n",
      "  \"files\": {}, \n",
      "  \"form\": {}, \n",
      "  \"headers\": {\n",
      "    \"Accept\": \"*/*\", \n",
      "    \"Accept-Encoding\": \"gzip, deflate\", \n",
      "    \"Authorization\": \"Bearer YOUR_ACCESS_TOKEN\", \n",
      "    \"Content-Length\": \"0\", \n",
      "    \"Host\": \"www.httpbin.org\", \n",
      "    \"User-Agent\": \"python-requests/2.32.3\", \n",
      "    \"X-Amzn-Trace-Id\": \"Root=1-67dc4236-327f53701a32e760288628ef\"\n",
      "  }, \n",
      "  \"json\": null, \n",
      "  \"origin\": \"223.185.39.106\", \n",
      "  \"url\": \"https://www.httpbin.org/delete\"\n",
      "}\n",
      "\n",
      "Date Thu, 20 Mar 2025 16:28:40 GMT\n"
     ]
    }
   ],
   "source": [
    "url = \"https://www.httpbin.org/delete\"\n",
    "headers = {\n",
    "    \"Authorization\": \"Bearer YOUR_ACCESS_TOKEN\"\n",
    "}\n",
    "r3 = requests.delete(url, headers=headers)\n",
    "print('status_code',r3.status_code)\n",
    "print('headers',r3.headers)\n",
    "print(r3.text) \n",
    "print('Date',r3.headers['Date'])"
   ]
  },
  {
   "cell_type": "code",
   "execution_count": null,
   "metadata": {},
   "outputs": [],
   "source": []
  }
 ],
 "metadata": {
  "kernelspec": {
   "display_name": "Python 3",
   "language": "python",
   "name": "python3"
  },
  "language_info": {
   "codemirror_mode": {
    "name": "ipython",
    "version": 3
   },
   "file_extension": ".py",
   "mimetype": "text/x-python",
   "name": "python",
   "nbconvert_exporter": "python",
   "pygments_lexer": "ipython3",
   "version": "3.13.2"
  }
 },
 "nbformat": 4,
 "nbformat_minor": 2
}
