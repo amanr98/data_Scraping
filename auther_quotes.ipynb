{
 "cells": [
  {
   "cell_type": "code",
   "execution_count": 1,
   "metadata": {},
   "outputs": [],
   "source": [
    "from bs4 import BeautifulSoup\n",
    "import requests as rq"
   ]
  },
  {
   "cell_type": "code",
   "execution_count": 2,
   "metadata": {},
   "outputs": [],
   "source": [
    "qURL = 'https://quotes.toscrape.com/'\n",
    "response = rq.get(url=qURL)\n",
    "bResp = BeautifulSoup(response.text,\"html.parser\")\n",
    "rquote = bResp.find_all('span',attrs={'itemprop':'text'})\n",
    "rauthor = bResp.find_all('small')"
   ]
  },
  {
   "cell_type": "code",
   "execution_count": null,
   "metadata": {},
   "outputs": [
    {
     "name": "stdout",
     "output_type": "stream",
     "text": [
      "auther list =  ['Albert Einstein', 'J.K. Rowling', 'Albert Einstein', 'Jane Austen', 'Marilyn Monroe', 'Albert Einstein', 'André Gide', 'Thomas A. Edison', 'Eleanor Roosevelt', 'Steve Martin']\n",
      "quote list =  ['“The world as we have created it is a process of our thinking. It cannot be changed without changing our thinking.”', '“It is our choices, Harry, that show what we truly are, far more than our abilities.”', '“There are only two ways to live your life. One is as though nothing is a miracle. The other is as though everything is a miracle.”', '“The person, be it gentleman or lady, who has not pleasure in a good novel, must be intolerably stupid.”', \"“Imperfection is beauty, madness is genius and it's better to be absolutely ridiculous than absolutely boring.”\", '“Try not to become a man of success. Rather become a man of value.”', '“It is better to be hated for what you are than to be loved for what you are not.”', \"“I have not failed. I've just found 10,000 ways that won't work.”\", \"“A woman is like a tea bag; you never know how strong it is until it's in hot water.”\", '“A day without sunshine is like, you know, night.”']\n"
     ]
    }
   ],
   "source": [
    "l_authors=[]\n",
    "l_quotes=[]\n",
    "\n",
    "\n",
    "for i in rauthor:\n",
    "    l_authors.append(i.string)\n",
    "print('auther list = ',l_authors)\n",
    "\n",
    "\n",
    "for i in rquote:\n",
    "    l_quotes.append(i.string)\n",
    "print('quote list = ',l_quotes)"
   ]
  },
  {
   "cell_type": "code",
   "execution_count": 4,
   "metadata": {},
   "outputs": [
    {
     "name": "stdout",
     "output_type": "stream",
     "text": [
      "{'author': 'Albert Einstein', 'quote': '“The world as we have created it is a process of our thinking. It cannot be changed without changing our thinking.”'}\n",
      "{'author': 'J.K. Rowling', 'quote': '“It is our choices, Harry, that show what we truly are, far more than our abilities.”'}\n",
      "{'author': 'Albert Einstein', 'quote': '“There are only two ways to live your life. One is as though nothing is a miracle. The other is as though everything is a miracle.”'}\n",
      "{'author': 'Jane Austen', 'quote': '“The person, be it gentleman or lady, who has not pleasure in a good novel, must be intolerably stupid.”'}\n",
      "{'author': 'Marilyn Monroe', 'quote': \"“Imperfection is beauty, madness is genius and it's better to be absolutely ridiculous than absolutely boring.”\"}\n",
      "{'author': 'Albert Einstein', 'quote': '“Try not to become a man of success. Rather become a man of value.”'}\n",
      "{'author': 'André Gide', 'quote': '“It is better to be hated for what you are than to be loved for what you are not.”'}\n",
      "{'author': 'Thomas A. Edison', 'quote': \"“I have not failed. I've just found 10,000 ways that won't work.”\"}\n",
      "{'author': 'Eleanor Roosevelt', 'quote': \"“A woman is like a tea bag; you never know how strong it is until it's in hot water.”\"}\n",
      "{'author': 'Steve Martin', 'quote': '“A day without sunshine is like, you know, night.”'}\n"
     ]
    }
   ],
   "source": [
    "\n",
    "dict1 = []\n",
    "for j in range(len(l_authors)):\n",
    "    dict1.append({\n",
    "        'author': l_authors[j],\n",
    "        'quote': l_quotes[j]\n",
    "    })\n",
    "    \n",
    "        \n",
    "for i in range(len(dict1)):\n",
    "    print(dict1[i])"
   ]
  },
  {
   "cell_type": "code",
   "execution_count": 5,
   "metadata": {},
   "outputs": [
    {
     "name": "stdout",
     "output_type": "stream",
     "text": [
      "{'Albert Einstein': '“Try not to become a man of success. Rather become a man of value.”', 'J.K. Rowling': '“It is our choices, Harry, that show what we truly are, far more than our abilities.”', 'Jane Austen': '“The person, be it gentleman or lady, who has not pleasure in a good novel, must be intolerably stupid.”', 'Marilyn Monroe': \"“Imperfection is beauty, madness is genius and it's better to be absolutely ridiculous than absolutely boring.”\", 'André Gide': '“It is better to be hated for what you are than to be loved for what you are not.”', 'Thomas A. Edison': \"“I have not failed. I've just found 10,000 ways that won't work.”\", 'Eleanor Roosevelt': \"“A woman is like a tea bag; you never know how strong it is until it's in hot water.”\", 'Steve Martin': '“A day without sunshine is like, you know, night.”'}\n"
     ]
    }
   ],
   "source": [
    "dict2 = {}\n",
    "for i in range(len(l_authors)):\n",
    "    dict2[l_authors[i]] = l_quotes[i]\n",
    "    \n",
    "print(dict2)"
   ]
  },
  {
   "cell_type": "code",
   "execution_count": 6,
   "metadata": {},
   "outputs": [
    {
     "name": "stdout",
     "output_type": "stream",
     "text": [
      "('Albert Einstein', '“Try not to become a man of success. Rather become a man of value.”')\n",
      "('J.K. Rowling', '“It is our choices, Harry, that show what we truly are, far more than our abilities.”')\n",
      "('Jane Austen', '“The person, be it gentleman or lady, who has not pleasure in a good novel, must be intolerably stupid.”')\n",
      "('Marilyn Monroe', \"“Imperfection is beauty, madness is genius and it's better to be absolutely ridiculous than absolutely boring.”\")\n",
      "('André Gide', '“It is better to be hated for what you are than to be loved for what you are not.”')\n",
      "('Thomas A. Edison', \"“I have not failed. I've just found 10,000 ways that won't work.”\")\n",
      "('Eleanor Roosevelt', \"“A woman is like a tea bag; you never know how strong it is until it's in hot water.”\")\n",
      "('Steve Martin', '“A day without sunshine is like, you know, night.”')\n"
     ]
    }
   ],
   "source": [
    "\n",
    "for i in dict2.items():\n",
    "    print(i)      \n"
   ]
  }
 ],
 "metadata": {
  "kernelspec": {
   "display_name": "Python 3",
   "language": "python",
   "name": "python3"
  },
  "language_info": {
   "codemirror_mode": {
    "name": "ipython",
    "version": 3
   },
   "file_extension": ".py",
   "mimetype": "text/x-python",
   "name": "python",
   "nbconvert_exporter": "python",
   "pygments_lexer": "ipython3",
   "version": "3.13.2"
  }
 },
 "nbformat": 4,
 "nbformat_minor": 2
}
